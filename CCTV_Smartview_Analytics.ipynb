{
  "cells": [
    {
      "cell_type": "markdown",
      "metadata": {
        "id": "uVHU029lNnBA"
      },
      "source": [
        "## CCTV Live Streams\n",
        "\n",
        "### These are some public cctv live streams of some countries\n",
        "\n",
        "<br>\n",
        "\n",
        "Canada(Toranto) - http://72.138.175.115/mjpg/video.mjpg?camera=1\n",
        "\n",
        "Canada(Sault Ste. Marie) - http://142.112.106.49:84/mjpg/video.mjpg\n",
        "\n",
        "India(Bengaluru) - http://117.215.128.17:82/nphMotionJpeg?Resolution=640x480&Quality=Motion\n",
        "\n",
        "Germany(Spiekeroog) - http://5.61.162.124/mjpg/video.mjpg?camera=1\n",
        "\n",
        "France(Vorey) - http://88.166.245.77:81/mjpg/video.mjpg\n",
        "\n",
        "France(Saint-Denis) - http://77.135.210.108/mjpg/video.mjpg\n",
        "\n",
        "USA(Dallas) - http://98.172.44.107:8090/mjpg/video.mjpg\n",
        "\n",
        "USA(Dallas) - http://166.251.105.190/mjpg/video.mjpg\n",
        "\n",
        "USA(Savannah) - http://73.182.17.160:8081/mjpg/1/video.mjpg\n",
        "\n",
        "Japan(Tokyo) - http://118.22.23.185/nphMotionJpeg?Resolution=640x480&Quality=Standard\n",
        "\n",
        "Japan(Tokyo) - http://219.101.88.67:60001/nphMotionJpeg?Resolution=640x480&Quality=Clarity"
      ]
    },
    {
      "cell_type": "markdown",
      "metadata": {
        "id": "taywUzFeFtVz"
      },
      "source": [
        "## Install Necessary Modules"
      ]
    },
    {
      "cell_type": "code",
      "execution_count": 39,
      "metadata": {
        "id": "xgcL0Oshk1Py",
        "colab": {
          "base_uri": "https://localhost:8080/"
        },
        "outputId": "da391d3a-ccb9-43e6-aaa4-d3e4e898a88b"
      },
      "outputs": [
        {
          "output_type": "stream",
          "name": "stdout",
          "text": [
            "\u001b[31mERROR: https://github.com/CCTV-Smartview-Analytics/Project-Notebook/blob/main/close_color_finder.py is not a valid editable requirement. It should either be a path to a local project or a VCS URL (beginning with bzr+http, bzr+https, bzr+ssh, bzr+sftp, bzr+ftp, bzr+lp, bzr+file, git+http, git+https, git+ssh, git+git, git+file, hg+file, hg+http, hg+https, hg+ssh, hg+static-http, svn+ssh, svn+http, svn+https, svn+svn, svn+file).\u001b[0m\u001b[31m\n",
            "\u001b[0mThe colabxterm extension is already loaded. To reload it, use:\n",
            "  %reload_ext colabxterm\n"
          ]
        }
      ],
      "source": [
        "!pip install ultralytics opencv-python colorthief webcolors\n",
        "!pip install colab-xterm\n",
        "!pip install -e https://github.com/CCTV-Smartview-Analytics/Project-Notebook/blob/main/close_color_finder.py\n",
        "%load_ext colabxterm"
      ]
    },
    {
      "cell_type": "code",
      "execution_count": null,
      "metadata": {
        "id": "nwZUTRAntxEB"
      },
      "outputs": [],
      "source": [
        "from google.colab import drive\n",
        "drive.mount('/content/drive')"
      ]
    },
    {
      "cell_type": "markdown",
      "metadata": {
        "id": "3m4rmWryFz68"
      },
      "source": [
        "## Import Modules"
      ]
    },
    {
      "cell_type": "code",
      "source": [
        "with open('close_color_finder.py','w') as f:\n",
        "  f.write(requests.get('https://raw.githubusercontent.com/CCTV-Smartview-Analytics/Project-Notebook/main/close_color_finder.py').text)"
      ],
      "metadata": {
        "id": "OyuZqdXrFs3r"
      },
      "execution_count": 46,
      "outputs": []
    },
    {
      "cell_type": "code",
      "execution_count": 36,
      "metadata": {
        "id": "MDftkcDBk79x"
      },
      "outputs": [],
      "source": [
        "from ultralytics import YOLO\n",
        "import cv2, time, os, csv, requests\n",
        "from colorthief import ColorThief\n",
        "from webcolors import rgb_to_name\n",
        "import datetime\n",
        "from dateutil.tz import gettz\n",
        "from PIL import Image as im\n",
        "from moviepy.editor import *\n",
        "from google.colab.patches import cv2_imshow"
      ]
    },
    {
      "cell_type": "code",
      "execution_count": null,
      "metadata": {
        "id": "i0BavwYwM5NH"
      },
      "outputs": [],
      "source": [
        "# %cd /content\n",
        "\n",
        "# !pip install roboflow\n",
        "\n",
        "# from roboflow import Roboflow\n",
        "# rf = Roboflow(api_key=\"T5uMjNxNNTTeAUIUq0fl\")\n",
        "# project = rf.workspace(\"master-dataset-curation\").project(\"cctv-curation-dataset-poc\")\n",
        "# version = project.version(13)\n",
        "# dataset = version.download(\"yolov8\")\n"
      ]
    },
    {
      "cell_type": "code",
      "execution_count": null,
      "metadata": {
        "id": "bJpZK5UdRTwm"
      },
      "outputs": [],
      "source": [
        "# %cd /content/CCTV-Curation-Dataset-PoC-13\n",
        "# model = YOLO('yolov8n.pt')\n",
        "# results = model.train(data='coco128.yaml', epochs=100, imgsz=640)"
      ]
    },
    {
      "cell_type": "markdown",
      "source": [
        "## Yolo Detection"
      ],
      "metadata": {
        "id": "8f0YGkzZaFuC"
      }
    },
    {
      "cell_type": "code",
      "execution_count": 37,
      "metadata": {
        "id": "EAmAjqgslMoG",
        "colab": {
          "base_uri": "https://localhost:8080/",
          "height": 448
        },
        "outputId": "555b2833-5431-4356-cddf-b6b95825bc81"
      },
      "outputs": [
        {
          "output_type": "stream",
          "name": "stdout",
          "text": [
            "/content\n",
            "\n",
            "0: 384x640 2 persons, 186.5ms\n",
            "Speed: 2.8ms preprocess, 186.5ms inference, 1.3ms postprocess per image at shape (1, 3, 384, 640)\n"
          ]
        },
        {
          "output_type": "display_data",
          "data": {
            "text/plain": [
              "<PIL.Image.Image image mode=RGB size=10x23>"
            ],
            "image/png": "[encoded data removed]"
          },
          "metadata": {}
        },
        {
          "output_type": "error",
          "ename": "ValueError",
          "evalue": "\"#21483f\" has no defined color name in css3.",
          "traceback": [
            "\u001b[0;31m---------------------------------------------------------------------------\u001b[0m",
            "\u001b[0;31mValueError\u001b[0m                                Traceback (most recent call last)",
            "\u001b[0;32m<ipython-input-37-dbd3f2329bae>\u001b[0m in \u001b[0;36m<cell line: 32>\u001b[0;34m()\u001b[0m\n\u001b[1;32m     63\u001b[0m           \u001b[0mdominant_color\u001b[0m \u001b[0;34m=\u001b[0m \u001b[0mColorThief\u001b[0m\u001b[0;34m(\u001b[0m\u001b[0;34m'__temp__.png'\u001b[0m\u001b[0;34m)\u001b[0m\u001b[0;34m.\u001b[0m\u001b[0mget_color\u001b[0m\u001b[0;34m(\u001b[0m\u001b[0mquality\u001b[0m\u001b[0;34m=\u001b[0m\u001b[0;36m1\u001b[0m\u001b[0;34m)\u001b[0m\u001b[0;34m\u001b[0m\u001b[0;34m\u001b[0m\u001b[0m\n\u001b[1;32m     64\u001b[0m \u001b[0;34m\u001b[0m\u001b[0m\n\u001b[0;32m---> 65\u001b[0;31m           \u001b[0mwriter\u001b[0m\u001b[0;34m.\u001b[0m\u001b[0mwriterow\u001b[0m\u001b[0;34m(\u001b[0m\u001b[0;34m[\u001b[0m\u001b[0mframe_no\u001b[0m\u001b[0;34m,\u001b[0m \u001b[0mx1\u001b[0m\u001b[0;34m,\u001b[0m \u001b[0my1\u001b[0m\u001b[0;34m,\u001b[0m \u001b[0mx2\u001b[0m\u001b[0;34m,\u001b[0m \u001b[0my2\u001b[0m\u001b[0;34m,\u001b[0m \u001b[0mconf\u001b[0m\u001b[0;34m,\u001b[0m \u001b[0mcls\u001b[0m\u001b[0;34m,\u001b[0m \u001b[0mrgb_to_name\u001b[0m\u001b[0;34m(\u001b[0m\u001b[0mdominant_color\u001b[0m\u001b[0;34m)\u001b[0m\u001b[0;34m]\u001b[0m\u001b[0;34m)\u001b[0m\u001b[0;34m\u001b[0m\u001b[0;34m\u001b[0m\u001b[0m\n\u001b[0m\u001b[1;32m     66\u001b[0m           \u001b[0mtext_size\u001b[0m \u001b[0;34m=\u001b[0m \u001b[0mcv2\u001b[0m\u001b[0;34m.\u001b[0m\u001b[0mgetTextSize\u001b[0m\u001b[0;34m(\u001b[0m\u001b[0mstr\u001b[0m\u001b[0;34m(\u001b[0m\u001b[0mtime_now\u001b[0m\u001b[0;34m.\u001b[0m\u001b[0mtime\u001b[0m\u001b[0;34m(\u001b[0m\u001b[0;34m)\u001b[0m\u001b[0;34m.\u001b[0m\u001b[0mstrftime\u001b[0m\u001b[0;34m(\u001b[0m\u001b[0;34m'%X'\u001b[0m\u001b[0;34m)\u001b[0m\u001b[0;34m)\u001b[0m\u001b[0;34m,\u001b[0m \u001b[0mcv2\u001b[0m\u001b[0;34m.\u001b[0m\u001b[0mFONT_HERSHEY_SIMPLEX\u001b[0m\u001b[0;34m,\u001b[0m \u001b[0;36m0.4\u001b[0m\u001b[0;34m,\u001b[0m \u001b[0;36m1\u001b[0m\u001b[0;34m)\u001b[0m\u001b[0;34m[\u001b[0m\u001b[0;36m0\u001b[0m\u001b[0;34m]\u001b[0m\u001b[0;34m\u001b[0m\u001b[0;34m\u001b[0m\u001b[0m\n\u001b[1;32m     67\u001b[0m           \u001b[0mtext_x\u001b[0m \u001b[0;34m=\u001b[0m \u001b[0mmax\u001b[0m\u001b[0;34m(\u001b[0m\u001b[0;34m(\u001b[0m\u001b[0mx1\u001b[0m \u001b[0;34m+\u001b[0m \u001b[0mx2\u001b[0m\u001b[0;34m)\u001b[0m\u001b[0;34m//\u001b[0m\u001b[0;36m2\u001b[0m \u001b[0;34m-\u001b[0m \u001b[0mtext_size\u001b[0m\u001b[0;34m[\u001b[0m\u001b[0;36m0\u001b[0m\u001b[0;34m]\u001b[0m \u001b[0;34m//\u001b[0m \u001b[0;36m2\u001b[0m\u001b[0;34m,\u001b[0m \u001b[0;36m0\u001b[0m\u001b[0;34m)\u001b[0m\u001b[0;34m\u001b[0m\u001b[0;34m\u001b[0m\u001b[0m\n",
            "\u001b[0;32m/usr/local/lib/python3.10/dist-packages/webcolors/conversion.py\u001b[0m in \u001b[0;36mrgb_to_name\u001b[0;34m(rgb_triplet, spec)\u001b[0m\n\u001b[1;32m    237\u001b[0m \u001b[0;34m\u001b[0m\u001b[0m\n\u001b[1;32m    238\u001b[0m     \"\"\"\n\u001b[0;32m--> 239\u001b[0;31m     return hex_to_name(\n\u001b[0m\u001b[1;32m    240\u001b[0m         \u001b[0mrgb_to_hex\u001b[0m\u001b[0;34m(\u001b[0m\u001b[0mnormalization\u001b[0m\u001b[0;34m.\u001b[0m\u001b[0mnormalize_integer_triplet\u001b[0m\u001b[0;34m(\u001b[0m\u001b[0mrgb_triplet\u001b[0m\u001b[0;34m)\u001b[0m\u001b[0;34m)\u001b[0m\u001b[0;34m,\u001b[0m \u001b[0mspec\u001b[0m\u001b[0;34m=\u001b[0m\u001b[0mspec\u001b[0m\u001b[0;34m\u001b[0m\u001b[0;34m\u001b[0m\u001b[0m\n\u001b[1;32m    241\u001b[0m     )\n",
            "\u001b[0;32m/usr/local/lib/python3.10/dist-packages/webcolors/conversion.py\u001b[0m in \u001b[0;36mhex_to_name\u001b[0;34m(hex_value, spec)\u001b[0m\n\u001b[1;32m    150\u001b[0m     )\n\u001b[1;32m    151\u001b[0m     \u001b[0;32mif\u001b[0m \u001b[0mname\u001b[0m \u001b[0;32mis\u001b[0m \u001b[0;32mNone\u001b[0m\u001b[0;34m:\u001b[0m\u001b[0;34m\u001b[0m\u001b[0;34m\u001b[0m\u001b[0m\n\u001b[0;32m--> 152\u001b[0;31m         \u001b[0;32mraise\u001b[0m \u001b[0mValueError\u001b[0m\u001b[0;34m(\u001b[0m\u001b[0;34mf'\"{hex_value}\" has no defined color name in {spec}.'\u001b[0m\u001b[0;34m)\u001b[0m\u001b[0;34m\u001b[0m\u001b[0;34m\u001b[0m\u001b[0m\n\u001b[0m\u001b[1;32m    153\u001b[0m     \u001b[0;32mreturn\u001b[0m \u001b[0mname\u001b[0m\u001b[0;34m\u001b[0m\u001b[0;34m\u001b[0m\u001b[0m\n\u001b[1;32m    154\u001b[0m \u001b[0;34m\u001b[0m\u001b[0m\n",
            "\u001b[0;31mValueError\u001b[0m: \"#21483f\" has no defined color name in css3."
          ]
        }
      ],
      "source": [
        "%cd /content\n",
        "start = time.time()\n",
        "\n",
        "# Replace the below url with the above url to choose desired stream\n",
        "[requests.get('http://118.22.23.185/nphControlCamera?Direction=Darker&Resolution=640x480&Quality=Standard&Mode=JPEG&RPeriod=65535&Size=STD&PresetOperation=Move&Language=0') for cnt in range(0,5)]\n",
        "\n",
        "cap = cv2.VideoCapture('https://player.vimeo.com/progressive_redirect/playback/523077693/rendition/360p/file.mp4?loc=external&oauth2_token_id=1747418641&signature=e5dccaf0045d276093f0b09ceb41cfbdb233c674d94edb5075e8ec366cac474a')#('https://player.vimeo.com/progressive_redirect/playback/210741646/rendition/360p/file.mp4?loc=external&oauth2_token_id=1747418641&signature=37077c1af632c7cb144dffed7e04dcc10ede6939be1b57ead875b6b8874b9cfb')#('https://player.vimeo.com/progressive_redirect/playback/328732843/rendition/360p/file.mp4?loc=external&oauth2_token_id=1747418641&signature=bb455a6abdfae56a5cb1f7a8a7e0e309128d832a3b3e15796c6922b7a771c3ac')#('/content/abcd.mp4')\n",
        "\n",
        "model = YOLO('yolov8n.pt')#('/content/CCTV-Curation-Dataset-PoC-13/runs/detect/train/weights/best.pt')\n",
        "\n",
        "width = int(cap.get(cv2.CAP_PROP_FRAME_WIDTH))\n",
        "height = int(cap.get(cv2.CAP_PROP_FRAME_HEIGHT))\n",
        "fourcc = cv2.VideoWriter_fourcc('X','V','I','D')\n",
        "size = (width,height)\n",
        "fps = 10#cap.get(5)\n",
        "\n",
        "\n",
        "time_before_start = datetime.datetime.now(tz=gettz('Asia/Kolkata'))\n",
        "time_now = time_before_start\n",
        "frame_no = 0\n",
        "add_sec = 0\n",
        "\n",
        "# folder_path = os.path.join('')'/content/drive/MyDrive/'\n",
        "folder_path = os.path.join(os.path.abspath('.'),'drive','MyDrive')\n",
        "\n",
        "output = cv2.VideoWriter(folder_path + datetime.datetime.now().strftime('%d-%m-%Y') + '.avi', fourcc, fps, size, -1)\n",
        "class_names = model.names\n",
        "box_csv = open('output_summary.csv','w')\n",
        "writer = csv.writer(box_csv)\n",
        "writer.writerow(['Frame No.', 'X1', 'Y1', 'X2', 'Y2', 'Confidence', 'Class', 'Color'])\n",
        "\n",
        "try:\n",
        "  while cap.isOpened():\n",
        "\n",
        "    # Read each frame from video stream\n",
        "    ret, frame = cap.read()\n",
        "\n",
        "    frame_no += 1\n",
        "\n",
        "    # In case of no stream stop execution\n",
        "    if not ret:\n",
        "      break\n",
        "\n",
        "    # Predicted result of each frame\n",
        "    results = model.predict(frame, conf=0.5)\n",
        "\n",
        "    # Result with various bounding boxes for each frame\n",
        "    for i in results:\n",
        "\n",
        "      # Check if there is any detection\n",
        "      if i.boxes.data.tolist():\n",
        "        # Save the results with predicted class and normalised bounding box\n",
        "        results[0].save_txt('abc.txt')\n",
        "\n",
        "        # for each of the object get its bounding box values\n",
        "        for detection in i.boxes.data.tolist():\n",
        "          x1, y1, x2, y2, conf, cls = detection\n",
        "\n",
        "          cropped_frame = frame[int(y1):int(y2),int(x1):int(x2)]\n",
        "          cropped_img = im.fromarray(cropped_frame)\n",
        "          cropped_img.save('__temp__.png')\n",
        "          cv2_imshow(cropped_frame)\n",
        "          dominant_color = ColorThief('__temp__.png').get_color(quality=1)\n",
        "\n",
        "          writer.writerow([frame_no, x1, y1, x2, y2, conf, cls, rgb_to_name(dominant_color)])\n",
        "          text_size = cv2.getTextSize(str(time_now.time().strftime('%X')), cv2.FONT_HERSHEY_SIMPLEX, 0.4, 1)[0]\n",
        "          text_x = max((x1 + x2)//2 - text_size[0] // 2, 0)\n",
        "          text_y = max((y1 + y2)//2 - text_size[1] // 2, 0)\n",
        "\n",
        "          # cv2.putText(frame , text, coordinates, fontstyle, scaling_factor, color, thickness, line_style)\n",
        "          cv2.putText(frame, str(datetime.datetime.now().strftime('%X')), (int((x1+x2)/2), int((y1+y2)/2)), cv2.FONT_HERSHEY_SIMPLEX, 0.4, (0, 0, 0), 1, cv2.LINE_AA)\n",
        "\n",
        "          # Create directory for each objects\n",
        "          if not os.path.exists(class_names[int(cls)]):\n",
        "            os.mkdir(class_names[int(cls)])\n",
        "\n",
        "          break\n",
        "        frame = cv2.resize(frame, size)\n",
        "\n",
        "        # Save the numpy array as image with their corresponding timestamps\n",
        "        rgb_frame = cv2.cvtColor(frame, cv2.COLOR_BGR2RGB)\n",
        "        data = im.fromarray(rgb_frame)\n",
        "        cur_time = time.time()\n",
        "        data.save(f'{class_names[int(cls)]}/{cur_time}.png',)\n",
        "        # print(ColorThief(f'{class_names[int(cls)]}/{cur_time}.png').get_color(quality=1))\n",
        "        # Write the video file with the frame\n",
        "        output.write(frame)\n",
        "\n",
        "      else:\n",
        "        print('No Detection')\n",
        "\n",
        "    # cv2_imshow(frame)\n",
        "\n",
        "    # if cv2.waitKey(1) == ord('q'):\n",
        "    #   break\n",
        "\n",
        "    if frame_no % int(fps) == 0:\n",
        "      add_sec += 1\n",
        "      time_now = time_before_start + datetime.timedelta(0,add_sec)\n",
        "\n",
        "except InterruptedError:\n",
        "  pass\n",
        "\n",
        "finally:\n",
        "  output.release()\n",
        "  cap.release()\n",
        "  # cv2.destroyAllWindows()\n",
        "\n",
        "print(time.time() - start)"
      ]
    },
    {
      "cell_type": "markdown",
      "source": [
        "## Read Stored summary video along with CSV file"
      ],
      "metadata": {
        "id": "yCzttCUAZbgO"
      }
    },
    {
      "cell_type": "code",
      "source": [
        "import pandas as pd\n",
        "\n",
        "df = pd.read_csv('/content/drive/MyDrive/box_csv.csv')\n",
        "\n",
        "cap = cv2.VideoCapture('/content/drive/MyDrive/output1.avi')\n",
        "\n",
        "fr_cnt = 0\n",
        "\n",
        "while cap.isOpened():\n",
        "  ret, frame = cap.read()\n",
        "\n",
        "  if not ret:\n",
        "    break\n",
        "\n",
        "  fr_cnt += 1\n",
        "\n",
        "  for i in df[df['Frame No.'] == fr_cnt].iterrows():\n",
        "    cv2.rectangle(frame, (int(i[1].X1), int(i[1].Y1)), (int(i[1].X2), int(i[1].Y2)), (255,0,0))\n",
        "    cv2_imshow(frame)\n",
        "\n",
        "cap.release()"
      ],
      "metadata": {
        "id": "IkoWzZkm8jQ9"
      },
      "execution_count": null,
      "outputs": []
    },
    {
      "cell_type": "markdown",
      "source": [
        "## Encode Video in proper format to be displayed in colab"
      ],
      "metadata": {
        "id": "gLKZP7HzZWFO"
      }
    },
    {
      "cell_type": "code",
      "execution_count": null,
      "metadata": {
        "id": "t4OqsxFy6ssk"
      },
      "outputs": [],
      "source": [
        "path=\"/content/drive/MyDrive/output1.avi\"\n",
        "\n",
        "clip=VideoFileClip(path)\n",
        "clip.ipython_display(width=size[0],maxduration=120)"
      ]
    },
    {
      "cell_type": "markdown",
      "source": [
        "## Generate Video from Images"
      ],
      "metadata": {
        "id": "XfcpmOVoY4aQ"
      }
    },
    {
      "cell_type": "code",
      "execution_count": null,
      "metadata": {
        "id": "cBhMOzNRw369"
      },
      "outputs": [],
      "source": [
        "import os\n",
        "\n",
        "def create_video():\n",
        "  li = os.listdir('car')\n",
        "  li = sorted(li)\n",
        "  out = cv2.VideoWriter('/content/drive/MyDrive/summary/output_image.avi', fourcc, 30, size)\n",
        "  for i in li:\n",
        "    frame = cv2.imread('car/'+i)\n",
        "    rgb_frame = cv2.cvtColor(frame, cv2.COLOR_RGB2BGR)\n",
        "    out.write(rgb_frame)\n",
        "  out.release()\n",
        "\n",
        "create_video()"
      ]
    },
    {
      "cell_type": "markdown",
      "source": [
        "## Colab Terminal"
      ],
      "metadata": {
        "id": "IrvDl3itZAre"
      }
    },
    {
      "cell_type": "code",
      "execution_count": null,
      "metadata": {
        "id": "875R45oHfhCy"
      },
      "outputs": [],
      "source": [
        "%xterm\n",
        "\n",
        "# start = time.time()\n",
        "\n",
        "# # Replace the below url with the above url\n",
        "# cap = cv2.VideoCapture('http://98.172.44.107:8090/mjpg/video.mjpg')#('https://player.vimeo.com/progressive_redirect/playback/210741646/rendition/360p/file.mp4?loc=external&oauth2_token_id=1747418641&signature=37077c1af632c7cb144dffed7e04dcc10ede6939be1b57ead875b6b8874b9cfb')#('https://player.vimeo.com/progressive_redirect/playback/328732843/rendition/360p/file.mp4?loc=external&oauth2_token_id=1747418641&signature=bb455a6abdfae56a5cb1f7a8a7e0e309128d832a3b3e15796c6922b7a771c3ac')#('/content/abcd.mp4')\n",
        "\n",
        "# model = YOLO('yolov8n.pt')\n",
        "\n",
        "# width = int(cap.get(cv2.CAP_PROP_FRAME_WIDTH))\n",
        "# height = int(cap.get(cv2.CAP_PROP_FRAME_HEIGHT))\n",
        "# fourcc = cv2.VideoWriter_fourcc('m','p','4','v')\n",
        "# size = (width,height)\n",
        "# fps = cap.get(5)\n",
        "\n",
        "\n",
        "# time_before_start = datetime.datetime.now(tz=gettz('Asia/Kolkata'))\n",
        "# time_now = time_before_start\n",
        "# frame_no = 0\n",
        "# add_sec = 0\n",
        "\n",
        "# output = cv2.VideoWriter('output.mp4', fourcc, fps, size)\n",
        "# class_names = model.names\n",
        "\n",
        "# try:\n",
        "#   while cap.isOpened():\n",
        "\n",
        "#     # Read each frame from video stream\n",
        "#     ret, frame = cap.read()\n",
        "\n",
        "#     frame_no += 1\n",
        "\n",
        "#     # In case of no stream stop execution\n",
        "#     if not ret:\n",
        "#       break\n",
        "\n",
        "#     # Predicted result of each frame\n",
        "#     results = model.predict(frame, conf=0.5)\n",
        "\n",
        "#     # Result with various bounding boxes for each frame\n",
        "\n",
        "#     for i in results:\n",
        "\n",
        "#       # Check if there is any detection\n",
        "#       if i.boxes.data.tolist():\n",
        "#         # Save the results with predicted class and normalised bounding box\n",
        "#         results[0].save_txt('abc.txt')\n",
        "\n",
        "#         # for each of the object get its bounding box values\n",
        "#         for detection in i.boxes.data.tolist():\n",
        "#           x1, y1, x2, y2, conf, cls = detection\n",
        "\n",
        "#           # Calculate the center coordinates of the bounding box\n",
        "#           center_x = int((x1 + x2) / 2)\n",
        "#           center_y = int((y1 + y2) / 2)\n",
        "\n",
        "#           # Draw the timestamp near the object\n",
        "#           timestamp_text = str(time_now.time().strftime('%X'))\n",
        "#           text_size = cv2.getTextSize(timestamp_text, cv2.FONT_HERSHEY_SIMPLEX, 0.4, 1)[0]\n",
        "#           text_x = max(center_x - text_size[0] // 2, 0)\n",
        "#           text_y = max(center_y - text_size[1] // 2, 0)\n",
        "#           cv2.putText(frame, timestamp_text, (text_x, text_y), cv2.FONT_HERSHEY_SIMPLEX, 0.4, (0, 0, 0), 1, cv2.LINE_AA)\n",
        "\n",
        "#           # Draw the bounding box\n",
        "#           cv2.rectangle(frame, (int(x1), int(y1)), (int(x2), int(y2)), (255, 0, 0), 2)\n",
        "\n",
        "#           # Create directory for each object class\n",
        "#           class_dir = class_names[int(cls)]\n",
        "#           if not os.path.exists(class_dir):\n",
        "#               os.mkdir(class_dir)\n",
        "\n",
        "#           # Save the frame with the bounding box and timestamp\n",
        "#           frame_with_box = frame.copy()\n",
        "#           cv2.putText(frame_with_box, timestamp_text, (text_x, text_y), cv2.FONT_HERSHEY_SIMPLEX, 0.4, (0, 0, 0), 1, cv2.LINE_AA)\n",
        "#           cv2.rectangle(frame_with_box, (int(x1), int(y1)), (int(x2), int(y2)), (255, 0, 0), 2)\n",
        "#           cv2.imwrite(f'{class_dir}/{time.time()}.png', frame_with_box)\n",
        "\n",
        "#       # Write the video file with the frame\n",
        "#       output.write(frame)\n",
        "# except InterruptedError:\n",
        "#   pass\n",
        "\n",
        "# finally:\n",
        "#   output.release()\n",
        "#   cap.release()\n",
        "#   cv2.destroyAllWindows()\n",
        "\n",
        "# print(time.time() - start)\n",
        "\n"
      ]
    },
    {
      "cell_type": "code",
      "execution_count": null,
      "metadata": {
        "id": "byoWMb0OOPfv"
      },
      "outputs": [],
      "source": [
        "from IPython.display import HTML\n",
        "from base64 import b64encode\n",
        "mp4 = open('output.mp4','rb').read()\n",
        "data_url = \"data:video/avi;base64,\" + b64encode(mp4).decode()\n",
        "HTML(\"\"\"\n",
        "<video width=400 controls>\n",
        "      <source src=\"%s\" type=\"video/avi\">\n",
        "</video>\n",
        "\"\"\" % data_url)"
      ]
    },
    {
      "cell_type": "code",
      "execution_count": null,
      "metadata": {
        "id": "BuuHcRVmO43c"
      },
      "outputs": [],
      "source": [
        "import datetime\n",
        "from dateutil.tz import gettz\n",
        "\n",
        "\n",
        "a= datetime.datetime.now(tz=gettz('Asia/Kolkata'))\n",
        "b = a + datetime.timedelta(0,5)\n",
        "\n",
        "print(a.time().strftime('%X'))\n",
        "print(b.time().strftime('%X'))"
      ]
    },
    {
      "cell_type": "markdown",
      "source": [
        "## List available streams"
      ],
      "metadata": {
        "id": "lmWiBx7KYu0b"
      }
    },
    {
      "cell_type": "code",
      "source": [
        "import requests\n",
        "\n",
        "res = requests.get('https://cdn.sourceb.in/bins/7PR1Y6ImJB/0')\n",
        "\n",
        "for i in res.text.split('\\n'):\n",
        "  print(i.strip())\n"
      ],
      "metadata": {
        "id": "wG899vGXnibz"
      },
      "execution_count": null,
      "outputs": []
    },
    {
      "cell_type": "code",
      "execution_count": null,
      "metadata": {
        "id": "oUrirTiuVWov"
      },
      "outputs": [],
      "source": [
        "!git clone https://github.com/WongKinYiu/yolov9.git\n"
      ]
    },
    {
      "cell_type": "code",
      "execution_count": null,
      "metadata": {
        "id": "cwE7TuFtVoXr"
      },
      "outputs": [],
      "source": [
        "!cd /content/yolov9/"
      ]
    },
    {
      "cell_type": "code",
      "execution_count": null,
      "metadata": {
        "id": "Zzaoj-1SV15S"
      },
      "outputs": [],
      "source": [
        "!pip install -r yolov9/requirements.txt"
      ]
    },
    {
      "cell_type": "code",
      "execution_count": null,
      "metadata": {
        "id": "44SMjgjzWa33"
      },
      "outputs": [],
      "source": [
        "%cd yolov9"
      ]
    },
    {
      "cell_type": "code",
      "execution_count": null,
      "metadata": {
        "id": "mVm-mTWUf2uk"
      },
      "outputs": [],
      "source": [
        "!python val.py --data data/coco.yaml --img 640 --batch 32 --conf 0.001 --iou 0.7 --device cpu --weights './yolov9-c-converted.pt' --save-json --name yolov9_c_c_640_val"
      ]
    },
    {
      "cell_type": "code",
      "execution_count": null,
      "metadata": {
        "id": "DmXuUga9YFqe"
      },
      "outputs": [],
      "source": [
        "!python detect.py --source './data/images/horses.jpg' --img 640 --device 0 --weights './yolov9-c-converted.pt' --name yolov9_c_c_640_detect"
      ]
    },
    {
      "cell_type": "code",
      "execution_count": null,
      "metadata": {
        "id": "QkMdakW55_56"
      },
      "outputs": [],
      "source": [
        "%cd /content\n",
        "!unzip CCTV-Curation-Dataset-PoC-13-20240317T184212Z-001 -d /content"
      ]
    },
    {
      "cell_type": "code",
      "execution_count": null,
      "metadata": {
        "id": "6twB-xWAM6R9"
      },
      "outputs": [],
      "source": [
        "datetime.datetime.now()"
      ]
    },
    {
      "cell_type": "code",
      "execution_count": null,
      "metadata": {
        "id": "MqgXLiWA6DON"
      },
      "outputs": [],
      "source": [
        "!ffmpeg -i output1.avi output.mp4"
      ]
    },
    {
      "cell_type": "code",
      "source": [],
      "metadata": {
        "id": "RKcxGGHosW66"
      },
      "execution_count": 45,
      "outputs": []
    }
  ],
  "metadata": {
    "accelerator": "GPU",
    "colab": {
      "gpuType": "T4",
      "provenance": []
    },
    "kernelspec": {
      "display_name": "Python 3",
      "name": "python3"
    },
    "language_info": {
      "name": "python"
    }
  },
  "nbformat": 4,
  "nbformat_minor": 0
}